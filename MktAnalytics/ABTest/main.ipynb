{
 "cells": [
  {
   "cell_type": "code",
   "execution_count": 1,
   "metadata": {},
   "outputs": [],
   "source": [
    "#libs\n",
    "\n",
    "from sklearn.cluster import KMeans\n",
    "from sklearn import metrics\n",
    "from sklearn.preprocessing import MinMaxScaler\n",
    "\n",
    "import time\n",
    "import sklearn\n",
    "import datetime\n",
    "import numpy as np\n",
    "import pandas as pd\n",
    "import seaborn as sns\n",
    "import matplotlib as m\n",
    "import scipy.stats as scs\n",
    "import matplotlib.pyplot as plt\n",
    "\n",
    "%matplotlib inline"
   ]
  },
  {
   "cell_type": "markdown",
   "metadata": {},
   "source": [
    "# *Load*\n",
    "\n",
    "Columns Dictionary\n",
    "- id -> user identification\n",
    "- version -> the website version the user see (A is control (show comments) and B is test (don't show comments))\n",
    "- conversion -> if the user bought something (true or false)\n",
    "- date -> the date"
   ]
  },
  {
   "cell_type": "code",
   "execution_count": 2,
   "metadata": {},
   "outputs": [
    {
     "data": {
      "text/html": [
       "<div>\n",
       "<style scoped>\n",
       "    .dataframe tbody tr th:only-of-type {\n",
       "        vertical-align: middle;\n",
       "    }\n",
       "\n",
       "    .dataframe tbody tr th {\n",
       "        vertical-align: top;\n",
       "    }\n",
       "\n",
       "    .dataframe thead th {\n",
       "        text-align: right;\n",
       "    }\n",
       "</style>\n",
       "<table border=\"1\" class=\"dataframe\">\n",
       "  <thead>\n",
       "    <tr style=\"text-align: right;\">\n",
       "      <th></th>\n",
       "      <th>id</th>\n",
       "      <th>variants</th>\n",
       "      <th>conversion</th>\n",
       "      <th>date</th>\n",
       "    </tr>\n",
       "  </thead>\n",
       "  <tbody>\n",
       "    <tr>\n",
       "      <th>0</th>\n",
       "      <td>0x6f9421</td>\n",
       "      <td>A</td>\n",
       "      <td>False</td>\n",
       "      <td>2019-12-26</td>\n",
       "    </tr>\n",
       "    <tr>\n",
       "      <th>1</th>\n",
       "      <td>0x59d442</td>\n",
       "      <td>A</td>\n",
       "      <td>False</td>\n",
       "      <td>2019-08-16</td>\n",
       "    </tr>\n",
       "    <tr>\n",
       "      <th>2</th>\n",
       "      <td>0x6db8f8</td>\n",
       "      <td>A</td>\n",
       "      <td>True</td>\n",
       "      <td>2019-03-18</td>\n",
       "    </tr>\n",
       "    <tr>\n",
       "      <th>3</th>\n",
       "      <td>0x68245d</td>\n",
       "      <td>A</td>\n",
       "      <td>False</td>\n",
       "      <td>2019-02-13</td>\n",
       "    </tr>\n",
       "    <tr>\n",
       "      <th>4</th>\n",
       "      <td>0x28566e</td>\n",
       "      <td>A</td>\n",
       "      <td>False</td>\n",
       "      <td>2019-09-28</td>\n",
       "    </tr>\n",
       "  </tbody>\n",
       "</table>\n",
       "</div>"
      ],
      "text/plain": [
       "         id variants  conversion        date\n",
       "0  0x6f9421        A       False  2019-12-26\n",
       "1  0x59d442        A       False  2019-08-16\n",
       "2  0x6db8f8        A        True  2019-03-18\n",
       "3  0x68245d        A       False  2019-02-13\n",
       "4  0x28566e        A       False  2019-09-28"
      ]
     },
     "execution_count": 2,
     "metadata": {},
     "output_type": "execute_result"
    }
   ],
   "source": [
    "# load and put columns name in english\n",
    "\n",
    "df = pd.read_csv('data/dataset.csv', encoding='utf-8').rename(columns={'variante':'variants', \n",
    "                                                                       'compra':'conversion', #if people buy\n",
    "                                                                       'data':'date'})\n",
    "df.head()"
   ]
  },
  {
   "cell_type": "markdown",
   "metadata": {},
   "source": [
    "# *Exploratory Data Analysis*"
   ]
  },
  {
   "cell_type": "code",
   "execution_count": 3,
   "metadata": {},
   "outputs": [
    {
     "name": "stdout",
     "output_type": "stream",
     "text": [
      "Number of row: 55000\n",
      "Number of columns: 4\n"
     ]
    }
   ],
   "source": [
    "print(f'Number of row: {df.shape[0]}')\n",
    "print(f'Number of columns: {df.shape[1]}')"
   ]
  },
  {
   "cell_type": "code",
   "execution_count": 4,
   "metadata": {},
   "outputs": [
    {
     "name": "stdout",
     "output_type": "stream",
     "text": [
      "<class 'pandas.core.frame.DataFrame'>\n",
      "RangeIndex: 55000 entries, 0 to 54999\n",
      "Data columns (total 4 columns):\n",
      " #   Column      Non-Null Count  Dtype \n",
      "---  ------      --------------  ----- \n",
      " 0   id          55000 non-null  object\n",
      " 1   variants    55000 non-null  object\n",
      " 2   conversion  55000 non-null  bool  \n",
      " 3   date        55000 non-null  object\n",
      "dtypes: bool(1), object(3)\n",
      "memory usage: 1.3+ MB\n"
     ]
    }
   ],
   "source": [
    "# columns information\n",
    "df.info()"
   ]
  },
  {
   "cell_type": "code",
   "execution_count": 5,
   "metadata": {},
   "outputs": [
    {
     "data": {
      "text/html": [
       "<div>\n",
       "<style scoped>\n",
       "    .dataframe tbody tr th:only-of-type {\n",
       "        vertical-align: middle;\n",
       "    }\n",
       "\n",
       "    .dataframe tbody tr th {\n",
       "        vertical-align: top;\n",
       "    }\n",
       "\n",
       "    .dataframe thead th {\n",
       "        text-align: right;\n",
       "    }\n",
       "</style>\n",
       "<table border=\"1\" class=\"dataframe\">\n",
       "  <thead>\n",
       "    <tr style=\"text-align: right;\">\n",
       "      <th></th>\n",
       "      <th>variants</th>\n",
       "      <th>conversion</th>\n",
       "    </tr>\n",
       "  </thead>\n",
       "  <tbody>\n",
       "    <tr>\n",
       "      <th>count</th>\n",
       "      <td>55000</td>\n",
       "      <td>55000</td>\n",
       "    </tr>\n",
       "    <tr>\n",
       "      <th>unique</th>\n",
       "      <td>2</td>\n",
       "      <td>2</td>\n",
       "    </tr>\n",
       "    <tr>\n",
       "      <th>top</th>\n",
       "      <td>A</td>\n",
       "      <td>False</td>\n",
       "    </tr>\n",
       "    <tr>\n",
       "      <th>freq</th>\n",
       "      <td>50000</td>\n",
       "      <td>46416</td>\n",
       "    </tr>\n",
       "  </tbody>\n",
       "</table>\n",
       "</div>"
      ],
      "text/plain": [
       "       variants conversion\n",
       "count     55000      55000\n",
       "unique        2          2\n",
       "top           A      False\n",
       "freq      50000      46416"
      ]
     },
     "execution_count": 5,
     "metadata": {},
     "output_type": "execute_result"
    }
   ],
   "source": [
    "# variants's and conversion's describe\n",
    "df[['variants','conversion']].describe()"
   ]
  },
  {
   "cell_type": "code",
   "execution_count": 6,
   "metadata": {},
   "outputs": [
    {
     "data": {
      "text/plain": [
       "55000"
      ]
     },
     "execution_count": 6,
     "metadata": {},
     "output_type": "execute_result"
    }
   ],
   "source": [
    "# check duplicates ids\n",
    "df.id.value_counts().count()"
   ]
  },
  {
   "cell_type": "code",
   "execution_count": 7,
   "metadata": {},
   "outputs": [
    {
     "data": {
      "text/html": [
       "<div>\n",
       "<style scoped>\n",
       "    .dataframe tbody tr th:only-of-type {\n",
       "        vertical-align: middle;\n",
       "    }\n",
       "\n",
       "    .dataframe tbody tr th {\n",
       "        vertical-align: top;\n",
       "    }\n",
       "\n",
       "    .dataframe thead th {\n",
       "        text-align: right;\n",
       "    }\n",
       "</style>\n",
       "<table border=\"1\" class=\"dataframe\">\n",
       "  <thead>\n",
       "    <tr style=\"text-align: right;\">\n",
       "      <th></th>\n",
       "      <th>Columns</th>\n",
       "      <th>Number of Null Values</th>\n",
       "    </tr>\n",
       "  </thead>\n",
       "  <tbody>\n",
       "    <tr>\n",
       "      <th>0</th>\n",
       "      <td>id</td>\n",
       "      <td>0</td>\n",
       "    </tr>\n",
       "    <tr>\n",
       "      <th>1</th>\n",
       "      <td>variants</td>\n",
       "      <td>0</td>\n",
       "    </tr>\n",
       "    <tr>\n",
       "      <th>2</th>\n",
       "      <td>conversion</td>\n",
       "      <td>0</td>\n",
       "    </tr>\n",
       "    <tr>\n",
       "      <th>3</th>\n",
       "      <td>date</td>\n",
       "      <td>0</td>\n",
       "    </tr>\n",
       "  </tbody>\n",
       "</table>\n",
       "</div>"
      ],
      "text/plain": [
       "      Columns  Number of Null Values\n",
       "0          id                      0\n",
       "1    variants                      0\n",
       "2  conversion                      0\n",
       "3        date                      0"
      ]
     },
     "execution_count": 7,
     "metadata": {},
     "output_type": "execute_result"
    }
   ],
   "source": [
    "# check null values\n",
    "pd.DataFrame({'Columns':df.isnull().sum().index,'Number of Null Values':df.isnull().sum().values})"
   ]
  },
  {
   "cell_type": "code",
   "execution_count": 8,
   "metadata": {},
   "outputs": [
    {
     "data": {
      "text/html": [
       "<div>\n",
       "<style scoped>\n",
       "    .dataframe tbody tr th:only-of-type {\n",
       "        vertical-align: middle;\n",
       "    }\n",
       "\n",
       "    .dataframe tbody tr th {\n",
       "        vertical-align: top;\n",
       "    }\n",
       "\n",
       "    .dataframe thead th {\n",
       "        text-align: right;\n",
       "    }\n",
       "</style>\n",
       "<table border=\"1\" class=\"dataframe\">\n",
       "  <thead>\n",
       "    <tr style=\"text-align: right;\">\n",
       "      <th></th>\n",
       "      <th>Columns</th>\n",
       "      <th>Number of Unique Values</th>\n",
       "    </tr>\n",
       "  </thead>\n",
       "  <tbody>\n",
       "    <tr>\n",
       "      <th>0</th>\n",
       "      <td>id</td>\n",
       "      <td>55000</td>\n",
       "    </tr>\n",
       "    <tr>\n",
       "      <th>1</th>\n",
       "      <td>variants</td>\n",
       "      <td>2</td>\n",
       "    </tr>\n",
       "    <tr>\n",
       "      <th>2</th>\n",
       "      <td>conversion</td>\n",
       "      <td>2</td>\n",
       "    </tr>\n",
       "    <tr>\n",
       "      <th>3</th>\n",
       "      <td>date</td>\n",
       "      <td>395</td>\n",
       "    </tr>\n",
       "  </tbody>\n",
       "</table>\n",
       "</div>"
      ],
      "text/plain": [
       "      Columns  Number of Unique Values\n",
       "0          id                    55000\n",
       "1    variants                        2\n",
       "2  conversion                        2\n",
       "3        date                      395"
      ]
     },
     "execution_count": 8,
     "metadata": {},
     "output_type": "execute_result"
    }
   ],
   "source": [
    "# Number of unique values\n",
    "pd.DataFrame({'Columns':df.nunique().index, 'Number of Unique Values':df.nunique().values})"
   ]
  },
  {
   "cell_type": "code",
   "execution_count": 9,
   "metadata": {},
   "outputs": [
    {
     "data": {
      "text/html": [
       "<div>\n",
       "<style scoped>\n",
       "    .dataframe tbody tr th:only-of-type {\n",
       "        vertical-align: middle;\n",
       "    }\n",
       "\n",
       "    .dataframe tbody tr th {\n",
       "        vertical-align: top;\n",
       "    }\n",
       "\n",
       "    .dataframe thead th {\n",
       "        text-align: right;\n",
       "    }\n",
       "</style>\n",
       "<table border=\"1\" class=\"dataframe\">\n",
       "  <thead>\n",
       "    <tr style=\"text-align: right;\">\n",
       "      <th></th>\n",
       "      <th>Conversion</th>\n",
       "      <th>Quantity</th>\n",
       "      <th>%</th>\n",
       "    </tr>\n",
       "  </thead>\n",
       "  <tbody>\n",
       "    <tr>\n",
       "      <th>0</th>\n",
       "      <td>False</td>\n",
       "      <td>46416</td>\n",
       "      <td>84.4</td>\n",
       "    </tr>\n",
       "    <tr>\n",
       "      <th>1</th>\n",
       "      <td>True</td>\n",
       "      <td>8584</td>\n",
       "      <td>15.6</td>\n",
       "    </tr>\n",
       "  </tbody>\n",
       "</table>\n",
       "</div>"
      ],
      "text/plain": [
       "  Conversion  Quantity     %\n",
       "0      False     46416  84.4\n",
       "1       True      8584  15.6"
      ]
     },
     "execution_count": 9,
     "metadata": {},
     "output_type": "execute_result"
    }
   ],
   "source": [
    "# proportion per conversion and version \n",
    "\n",
    "freq_table_conv = df.conversion.value_counts()\n",
    "pd.DataFrame({'Conversion': freq_table_conv.index, 'Quantity': freq_table_conv.values,\n",
    "              '%': np.round(freq_table_conv.values/df.shape[0],3)*100})"
   ]
  },
  {
   "cell_type": "code",
   "execution_count": 10,
   "metadata": {},
   "outputs": [
    {
     "data": {
      "text/html": [
       "<div>\n",
       "<style scoped>\n",
       "    .dataframe tbody tr th:only-of-type {\n",
       "        vertical-align: middle;\n",
       "    }\n",
       "\n",
       "    .dataframe tbody tr th {\n",
       "        vertical-align: top;\n",
       "    }\n",
       "\n",
       "    .dataframe thead th {\n",
       "        text-align: right;\n",
       "    }\n",
       "</style>\n",
       "<table border=\"1\" class=\"dataframe\">\n",
       "  <thead>\n",
       "    <tr style=\"text-align: right;\">\n",
       "      <th></th>\n",
       "      <th>Version Names</th>\n",
       "      <th>Quantity</th>\n",
       "      <th>%</th>\n",
       "      <th>Total Conversion</th>\n",
       "      <th>Conversion Probability</th>\n",
       "    </tr>\n",
       "  </thead>\n",
       "  <tbody>\n",
       "    <tr>\n",
       "      <th>0</th>\n",
       "      <td>A</td>\n",
       "      <td>50000</td>\n",
       "      <td>90.9</td>\n",
       "      <td>7603</td>\n",
       "      <td>0.152060</td>\n",
       "    </tr>\n",
       "    <tr>\n",
       "      <th>1</th>\n",
       "      <td>B</td>\n",
       "      <td>5000</td>\n",
       "      <td>9.1</td>\n",
       "      <td>981</td>\n",
       "      <td>0.196200</td>\n",
       "    </tr>\n",
       "    <tr>\n",
       "      <th>2</th>\n",
       "      <td>Total</td>\n",
       "      <td>55000</td>\n",
       "      <td>100.0</td>\n",
       "      <td>8584</td>\n",
       "      <td>0.156073</td>\n",
       "    </tr>\n",
       "  </tbody>\n",
       "</table>\n",
       "</div>"
      ],
      "text/plain": [
       "  Version Names  Quantity      %  Total Conversion  Conversion Probability\n",
       "0             A     50000   90.9              7603                0.152060\n",
       "1             B      5000    9.1               981                0.196200\n",
       "2         Total     55000  100.0              8584                0.156073"
      ]
     },
     "execution_count": 10,
     "metadata": {},
     "output_type": "execute_result"
    }
   ],
   "source": [
    "# information about the versions\n",
    "\n",
    "freq_table_ver = df.variants.value_counts()\n",
    "df_total = df.conversion\n",
    "df_A = df[df.variants == 'A'].conversion\n",
    "df_B = df[df.variants == 'B'].conversion\n",
    "\n",
    "pd.DataFrame({'Version Names': list(freq_table_ver.index)+['Total'],\n",
    "              'Quantity': list(freq_table_ver.values)+[freq_table_ver.values.sum()],\n",
    "              '%': list(np.round(freq_table_ver.values/df.shape[0],3)*100)+[100],\n",
    "              'Total Conversion': [df_A.sum(), df_B.sum(), df_total.sum()],\n",
    "              'Conversion Probability': [df_A.mean(), df_B.mean(), df_total.mean()]})"
   ]
  },
  {
   "cell_type": "code",
   "execution_count": 11,
   "metadata": {},
   "outputs": [],
   "source": [
    "# Add Year-Month\n",
    "df['YM'] = df['date'].apply(lambda row: row[:7])\n",
    "df['D'] = df['date'].apply(lambda row: row[-2:])"
   ]
  },
  {
   "cell_type": "markdown",
   "metadata": {},
   "source": [
    "## Table Pivot"
   ]
  },
  {
   "cell_type": "markdown",
   "metadata": {},
   "source": [
    "Per Day"
   ]
  },
  {
   "cell_type": "code",
   "execution_count": 12,
   "metadata": {},
   "outputs": [
    {
     "data": {
      "text/html": [
       "<div>\n",
       "<style scoped>\n",
       "    .dataframe tbody tr th:only-of-type {\n",
       "        vertical-align: middle;\n",
       "    }\n",
       "\n",
       "    .dataframe tbody tr th {\n",
       "        vertical-align: top;\n",
       "    }\n",
       "\n",
       "    .dataframe thead tr th {\n",
       "        text-align: left;\n",
       "    }\n",
       "\n",
       "    .dataframe thead tr:last-of-type th {\n",
       "        text-align: right;\n",
       "    }\n",
       "</style>\n",
       "<table border=\"1\" class=\"dataframe\">\n",
       "  <thead>\n",
       "    <tr>\n",
       "      <th></th>\n",
       "      <th colspan=\"2\" halign=\"left\">conversion</th>\n",
       "    </tr>\n",
       "    <tr>\n",
       "      <th>variants</th>\n",
       "      <th>A</th>\n",
       "      <th>B</th>\n",
       "    </tr>\n",
       "    <tr>\n",
       "      <th>D</th>\n",
       "      <th></th>\n",
       "      <th></th>\n",
       "    </tr>\n",
       "  </thead>\n",
       "  <tbody>\n",
       "    <tr>\n",
       "      <th>01</th>\n",
       "      <td>0.143981</td>\n",
       "      <td>0.206250</td>\n",
       "    </tr>\n",
       "    <tr>\n",
       "      <th>02</th>\n",
       "      <td>0.152595</td>\n",
       "      <td>0.221622</td>\n",
       "    </tr>\n",
       "    <tr>\n",
       "      <th>03</th>\n",
       "      <td>0.153611</td>\n",
       "      <td>0.172043</td>\n",
       "    </tr>\n",
       "    <tr>\n",
       "      <th>04</th>\n",
       "      <td>0.145200</td>\n",
       "      <td>0.193548</td>\n",
       "    </tr>\n",
       "    <tr>\n",
       "      <th>05</th>\n",
       "      <td>0.161094</td>\n",
       "      <td>0.197531</td>\n",
       "    </tr>\n",
       "    <tr>\n",
       "      <th>06</th>\n",
       "      <td>0.149739</td>\n",
       "      <td>0.220238</td>\n",
       "    </tr>\n",
       "    <tr>\n",
       "      <th>07</th>\n",
       "      <td>0.153231</td>\n",
       "      <td>0.214286</td>\n",
       "    </tr>\n",
       "    <tr>\n",
       "      <th>08</th>\n",
       "      <td>0.147311</td>\n",
       "      <td>0.134146</td>\n",
       "    </tr>\n",
       "    <tr>\n",
       "      <th>09</th>\n",
       "      <td>0.160000</td>\n",
       "      <td>0.201117</td>\n",
       "    </tr>\n",
       "    <tr>\n",
       "      <th>10</th>\n",
       "      <td>0.153751</td>\n",
       "      <td>0.153846</td>\n",
       "    </tr>\n",
       "    <tr>\n",
       "      <th>11</th>\n",
       "      <td>0.155611</td>\n",
       "      <td>0.200000</td>\n",
       "    </tr>\n",
       "    <tr>\n",
       "      <th>12</th>\n",
       "      <td>0.143025</td>\n",
       "      <td>0.216667</td>\n",
       "    </tr>\n",
       "    <tr>\n",
       "      <th>13</th>\n",
       "      <td>0.148104</td>\n",
       "      <td>0.173913</td>\n",
       "    </tr>\n",
       "    <tr>\n",
       "      <th>14</th>\n",
       "      <td>0.157276</td>\n",
       "      <td>0.166667</td>\n",
       "    </tr>\n",
       "    <tr>\n",
       "      <th>15</th>\n",
       "      <td>0.169755</td>\n",
       "      <td>0.230769</td>\n",
       "    </tr>\n",
       "    <tr>\n",
       "      <th>16</th>\n",
       "      <td>0.153940</td>\n",
       "      <td>0.189189</td>\n",
       "    </tr>\n",
       "    <tr>\n",
       "      <th>17</th>\n",
       "      <td>0.156020</td>\n",
       "      <td>0.192053</td>\n",
       "    </tr>\n",
       "    <tr>\n",
       "      <th>18</th>\n",
       "      <td>0.155852</td>\n",
       "      <td>0.248588</td>\n",
       "    </tr>\n",
       "    <tr>\n",
       "      <th>19</th>\n",
       "      <td>0.163342</td>\n",
       "      <td>0.193103</td>\n",
       "    </tr>\n",
       "    <tr>\n",
       "      <th>20</th>\n",
       "      <td>0.150464</td>\n",
       "      <td>0.160000</td>\n",
       "    </tr>\n",
       "    <tr>\n",
       "      <th>21</th>\n",
       "      <td>0.151442</td>\n",
       "      <td>0.215278</td>\n",
       "    </tr>\n",
       "    <tr>\n",
       "      <th>22</th>\n",
       "      <td>0.177238</td>\n",
       "      <td>0.164474</td>\n",
       "    </tr>\n",
       "    <tr>\n",
       "      <th>23</th>\n",
       "      <td>0.148688</td>\n",
       "      <td>0.223602</td>\n",
       "    </tr>\n",
       "    <tr>\n",
       "      <th>24</th>\n",
       "      <td>0.139021</td>\n",
       "      <td>0.186047</td>\n",
       "    </tr>\n",
       "    <tr>\n",
       "      <th>25</th>\n",
       "      <td>0.142154</td>\n",
       "      <td>0.209424</td>\n",
       "    </tr>\n",
       "    <tr>\n",
       "      <th>26</th>\n",
       "      <td>0.145999</td>\n",
       "      <td>0.209945</td>\n",
       "    </tr>\n",
       "    <tr>\n",
       "      <th>27</th>\n",
       "      <td>0.137290</td>\n",
       "      <td>0.150289</td>\n",
       "    </tr>\n",
       "    <tr>\n",
       "      <th>28</th>\n",
       "      <td>0.147551</td>\n",
       "      <td>0.184524</td>\n",
       "    </tr>\n",
       "    <tr>\n",
       "      <th>29</th>\n",
       "      <td>0.144841</td>\n",
       "      <td>0.262821</td>\n",
       "    </tr>\n",
       "    <tr>\n",
       "      <th>30</th>\n",
       "      <td>0.150649</td>\n",
       "      <td>0.197674</td>\n",
       "    </tr>\n",
       "    <tr>\n",
       "      <th>31</th>\n",
       "      <td>0.157542</td>\n",
       "      <td>0.000000</td>\n",
       "    </tr>\n",
       "  </tbody>\n",
       "</table>\n",
       "</div>"
      ],
      "text/plain": [
       "         conversion          \n",
       "variants          A         B\n",
       "D                            \n",
       "01         0.143981  0.206250\n",
       "02         0.152595  0.221622\n",
       "03         0.153611  0.172043\n",
       "04         0.145200  0.193548\n",
       "05         0.161094  0.197531\n",
       "06         0.149739  0.220238\n",
       "07         0.153231  0.214286\n",
       "08         0.147311  0.134146\n",
       "09         0.160000  0.201117\n",
       "10         0.153751  0.153846\n",
       "11         0.155611  0.200000\n",
       "12         0.143025  0.216667\n",
       "13         0.148104  0.173913\n",
       "14         0.157276  0.166667\n",
       "15         0.169755  0.230769\n",
       "16         0.153940  0.189189\n",
       "17         0.156020  0.192053\n",
       "18         0.155852  0.248588\n",
       "19         0.163342  0.193103\n",
       "20         0.150464  0.160000\n",
       "21         0.151442  0.215278\n",
       "22         0.177238  0.164474\n",
       "23         0.148688  0.223602\n",
       "24         0.139021  0.186047\n",
       "25         0.142154  0.209424\n",
       "26         0.145999  0.209945\n",
       "27         0.137290  0.150289\n",
       "28         0.147551  0.184524\n",
       "29         0.144841  0.262821\n",
       "30         0.150649  0.197674\n",
       "31         0.157542  0.000000"
      ]
     },
     "execution_count": 12,
     "metadata": {},
     "output_type": "execute_result"
    }
   ],
   "source": [
    "df_pivot_plate = df.pivot_table(index = ['D'], columns = ['variants'], values=['conversion'], aggfunc=np.mean)\n",
    "df_pivot_plate = df_pivot_plate.fillna(0)\n",
    "df_pivot_plate"
   ]
  },
  {
   "cell_type": "markdown",
   "metadata": {},
   "source": [
    "Per Year-Month"
   ]
  },
  {
   "cell_type": "code",
   "execution_count": 13,
   "metadata": {},
   "outputs": [
    {
     "data": {
      "text/html": [
       "<div>\n",
       "<style scoped>\n",
       "    .dataframe tbody tr th:only-of-type {\n",
       "        vertical-align: middle;\n",
       "    }\n",
       "\n",
       "    .dataframe tbody tr th {\n",
       "        vertical-align: top;\n",
       "    }\n",
       "\n",
       "    .dataframe thead tr th {\n",
       "        text-align: left;\n",
       "    }\n",
       "\n",
       "    .dataframe thead tr:last-of-type th {\n",
       "        text-align: right;\n",
       "    }\n",
       "</style>\n",
       "<table border=\"1\" class=\"dataframe\">\n",
       "  <thead>\n",
       "    <tr>\n",
       "      <th></th>\n",
       "      <th colspan=\"2\" halign=\"left\">conversion</th>\n",
       "    </tr>\n",
       "    <tr>\n",
       "      <th>variants</th>\n",
       "      <th>A</th>\n",
       "      <th>B</th>\n",
       "    </tr>\n",
       "    <tr>\n",
       "      <th>YM</th>\n",
       "      <th></th>\n",
       "      <th></th>\n",
       "    </tr>\n",
       "  </thead>\n",
       "  <tbody>\n",
       "    <tr>\n",
       "      <th>2019-01</th>\n",
       "      <td>634.0</td>\n",
       "      <td>0.0</td>\n",
       "    </tr>\n",
       "    <tr>\n",
       "      <th>2019-02</th>\n",
       "      <td>539.0</td>\n",
       "      <td>0.0</td>\n",
       "    </tr>\n",
       "    <tr>\n",
       "      <th>2019-03</th>\n",
       "      <td>619.0</td>\n",
       "      <td>0.0</td>\n",
       "    </tr>\n",
       "    <tr>\n",
       "      <th>2019-04</th>\n",
       "      <td>544.0</td>\n",
       "      <td>0.0</td>\n",
       "    </tr>\n",
       "    <tr>\n",
       "      <th>2019-05</th>\n",
       "      <td>606.0</td>\n",
       "      <td>0.0</td>\n",
       "    </tr>\n",
       "    <tr>\n",
       "      <th>2019-06</th>\n",
       "      <td>581.0</td>\n",
       "      <td>0.0</td>\n",
       "    </tr>\n",
       "    <tr>\n",
       "      <th>2019-07</th>\n",
       "      <td>615.0</td>\n",
       "      <td>0.0</td>\n",
       "    </tr>\n",
       "    <tr>\n",
       "      <th>2019-08</th>\n",
       "      <td>579.0</td>\n",
       "      <td>0.0</td>\n",
       "    </tr>\n",
       "    <tr>\n",
       "      <th>2019-09</th>\n",
       "      <td>621.0</td>\n",
       "      <td>0.0</td>\n",
       "    </tr>\n",
       "    <tr>\n",
       "      <th>2019-10</th>\n",
       "      <td>558.0</td>\n",
       "      <td>0.0</td>\n",
       "    </tr>\n",
       "    <tr>\n",
       "      <th>2019-11</th>\n",
       "      <td>547.0</td>\n",
       "      <td>0.0</td>\n",
       "    </tr>\n",
       "    <tr>\n",
       "      <th>2019-12</th>\n",
       "      <td>573.0</td>\n",
       "      <td>0.0</td>\n",
       "    </tr>\n",
       "    <tr>\n",
       "      <th>2020-01</th>\n",
       "      <td>587.0</td>\n",
       "      <td>981.0</td>\n",
       "    </tr>\n",
       "  </tbody>\n",
       "</table>\n",
       "</div>"
      ],
      "text/plain": [
       "         conversion       \n",
       "variants          A      B\n",
       "YM                        \n",
       "2019-01       634.0    0.0\n",
       "2019-02       539.0    0.0\n",
       "2019-03       619.0    0.0\n",
       "2019-04       544.0    0.0\n",
       "2019-05       606.0    0.0\n",
       "2019-06       581.0    0.0\n",
       "2019-07       615.0    0.0\n",
       "2019-08       579.0    0.0\n",
       "2019-09       621.0    0.0\n",
       "2019-10       558.0    0.0\n",
       "2019-11       547.0    0.0\n",
       "2019-12       573.0    0.0\n",
       "2020-01       587.0  981.0"
      ]
     },
     "execution_count": 13,
     "metadata": {},
     "output_type": "execute_result"
    }
   ],
   "source": [
    "df_pivot_date = df.pivot_table(index = ['YM'], columns = ['variants'], values=['conversion'], aggfunc=np.sum)\n",
    "df_pivot_date = df_pivot_date.fillna(0)\n",
    "df_pivot_date"
   ]
  },
  {
   "cell_type": "markdown",
   "metadata": {},
   "source": [
    "# *1. Some configurations*"
   ]
  },
  {
   "cell_type": "markdown",
   "metadata": {},
   "source": [
    "### Data Munging"
   ]
  },
  {
   "cell_type": "code",
   "execution_count": 14,
   "metadata": {},
   "outputs": [
    {
     "data": {
      "text/html": [
       "<div>\n",
       "<style scoped>\n",
       "    .dataframe tbody tr th:only-of-type {\n",
       "        vertical-align: middle;\n",
       "    }\n",
       "\n",
       "    .dataframe tbody tr th {\n",
       "        vertical-align: top;\n",
       "    }\n",
       "\n",
       "    .dataframe thead th {\n",
       "        text-align: right;\n",
       "    }\n",
       "</style>\n",
       "<table border=\"1\" class=\"dataframe\">\n",
       "  <thead>\n",
       "    <tr style=\"text-align: right;\">\n",
       "      <th></th>\n",
       "      <th>id</th>\n",
       "      <th>variants</th>\n",
       "      <th>conversion</th>\n",
       "      <th>date</th>\n",
       "      <th>YM</th>\n",
       "      <th>D</th>\n",
       "    </tr>\n",
       "  </thead>\n",
       "  <tbody>\n",
       "    <tr>\n",
       "      <th>5</th>\n",
       "      <td>0x792f1d</td>\n",
       "      <td>A</td>\n",
       "      <td>False</td>\n",
       "      <td>2020-01-14</td>\n",
       "      <td>2020-01</td>\n",
       "      <td>14</td>\n",
       "    </tr>\n",
       "    <tr>\n",
       "      <th>7</th>\n",
       "      <td>0x724b78</td>\n",
       "      <td>B</td>\n",
       "      <td>False</td>\n",
       "      <td>2020-01-23</td>\n",
       "      <td>2020-01</td>\n",
       "      <td>23</td>\n",
       "    </tr>\n",
       "    <tr>\n",
       "      <th>9</th>\n",
       "      <td>0x684bf9</td>\n",
       "      <td>A</td>\n",
       "      <td>False</td>\n",
       "      <td>2020-01-17</td>\n",
       "      <td>2020-01</td>\n",
       "      <td>17</td>\n",
       "    </tr>\n",
       "    <tr>\n",
       "      <th>10</th>\n",
       "      <td>0x6394dc</td>\n",
       "      <td>A</td>\n",
       "      <td>False</td>\n",
       "      <td>2020-01-06</td>\n",
       "      <td>2020-01</td>\n",
       "      <td>06</td>\n",
       "    </tr>\n",
       "    <tr>\n",
       "      <th>11</th>\n",
       "      <td>0x625f5d</td>\n",
       "      <td>A</td>\n",
       "      <td>False</td>\n",
       "      <td>2020-01-05</td>\n",
       "      <td>2020-01</td>\n",
       "      <td>05</td>\n",
       "    </tr>\n",
       "  </tbody>\n",
       "</table>\n",
       "</div>"
      ],
      "text/plain": [
       "          id variants  conversion        date       YM   D\n",
       "5   0x792f1d        A       False  2020-01-14  2020-01  14\n",
       "7   0x724b78        B       False  2020-01-23  2020-01  23\n",
       "9   0x684bf9        A       False  2020-01-17  2020-01  17\n",
       "10  0x6394dc        A       False  2020-01-06  2020-01  06\n",
       "11  0x625f5d        A       False  2020-01-05  2020-01  05"
      ]
     },
     "execution_count": 14,
     "metadata": {},
     "output_type": "execute_result"
    }
   ],
   "source": [
    "# using just data from January/2020\n",
    "df_2020 = df[df['YM'] == '2020-01']\n",
    "df_2020.head()"
   ]
  },
  {
   "cell_type": "markdown",
   "metadata": {},
   "source": [
    "### Base Line"
   ]
  },
  {
   "cell_type": "code",
   "execution_count": 15,
   "metadata": {},
   "outputs": [
    {
     "data": {
      "text/html": [
       "<div>\n",
       "<style scoped>\n",
       "    .dataframe tbody tr th:only-of-type {\n",
       "        vertical-align: middle;\n",
       "    }\n",
       "\n",
       "    .dataframe tbody tr th {\n",
       "        vertical-align: top;\n",
       "    }\n",
       "\n",
       "    .dataframe thead th {\n",
       "        text-align: right;\n",
       "    }\n",
       "</style>\n",
       "<table border=\"1\" class=\"dataframe\">\n",
       "  <thead>\n",
       "    <tr style=\"text-align: right;\">\n",
       "      <th></th>\n",
       "      <th>Version Names</th>\n",
       "      <th>Quantity</th>\n",
       "      <th>%</th>\n",
       "      <th>Total Conversion</th>\n",
       "      <th>Conversion Probability</th>\n",
       "    </tr>\n",
       "  </thead>\n",
       "  <tbody>\n",
       "    <tr>\n",
       "      <th>0</th>\n",
       "      <td>B</td>\n",
       "      <td>5000</td>\n",
       "      <td>9.1</td>\n",
       "      <td>981</td>\n",
       "      <td>0.196200</td>\n",
       "    </tr>\n",
       "    <tr>\n",
       "      <th>1</th>\n",
       "      <td>A</td>\n",
       "      <td>3821</td>\n",
       "      <td>6.9</td>\n",
       "      <td>587</td>\n",
       "      <td>0.153625</td>\n",
       "    </tr>\n",
       "  </tbody>\n",
       "</table>\n",
       "</div>"
      ],
      "text/plain": [
       "  Version Names  Quantity    %  Total Conversion  Conversion Probability\n",
       "0             B      5000  9.1               981                0.196200\n",
       "1             A      3821  6.9               587                0.153625"
      ]
     },
     "execution_count": 15,
     "metadata": {},
     "output_type": "execute_result"
    }
   ],
   "source": [
    "# information about the versions\n",
    "\n",
    "freq_table_ver = df_2020.variants.value_counts()\n",
    "df_total = df_2020.conversion\n",
    "df_A = df_2020[df_2020.variants == 'A'].conversion\n",
    "df_B = df_2020[df_2020.variants == 'B'].conversion\n",
    "\n",
    "df_base_line = pd.DataFrame({'Version Names': freq_table_ver.index,\n",
    "                             'Quantity': freq_table_ver.values,\n",
    "                             '%': np.round(freq_table_ver.values/df.shape[0],3)*100,\n",
    "                             'Total Conversion': [df_B.sum(), df_A.sum()],\n",
    "                             'Conversion Probability': [df_B.mean(), df_A.mean()]})\n",
    "df_base_line"
   ]
  },
  {
   "cell_type": "code",
   "execution_count": 17,
   "metadata": {},
   "outputs": [],
   "source": [
    "# Summary of Base Line\n",
    "\n",
    "conversion_A = df_base_line['Total Conversion'][1]\n",
    "conversion_B = df_base_line['Total Conversion'][0]\n",
    "\n",
    "total_A = df_base_line['Quantity'][1]\n",
    "total_B = df_base_line['Quantity'][0]\n",
    "\n",
    "rate_A = df_base_line['Conversion Probability'][1]\n",
    "rate_B = df_base_line['Conversion Probability'][0]\n",
    "\n",
    "conversion_base = rate_A\n",
    "effect_minimum = rate_B - rate_A # Minimum Detectable Effect"
   ]
  },
  {
   "cell_type": "markdown",
   "metadata": {},
   "source": [
    "# *2. Hypothesis Test*\n",
    "\n",
    "$p_{A}$ and $p_{B}$ being the conversion probabilities for the new and old variants, the hypotheses are defined in terms of words or in notation as:\n",
    "\n",
    "- H0: PB - PA = 0 (difference in probability of the two groups is equal to zero)\n",
    "- H1: PB - PA > 0 (difference in probability of the two groups is greater than zero)"
   ]
  },
  {
   "cell_type": "markdown",
   "metadata": {},
   "source": [
    "Parameters:\n",
    "- Alfa (Nível de significância) $\\alpha$: normally 5%; probability of rejecting the null hypothesis when the null hypothesis is true\n",
    "- Beta $\\beta$: probability of accepting the null hypothesis when the null hypothesis is really false.\n",
    "- Size $n$: sample size"
   ]
  },
  {
   "cell_type": "code",
   "execution_count": 18,
   "metadata": {},
   "outputs": [],
   "source": [
    "alfa = 0.05\n",
    "beta = 0.2\n",
    "n = 50000"
   ]
  },
  {
   "cell_type": "markdown",
   "metadata": {},
   "source": [
    "We can assume that the distribution of our control group is binomial because the data is a series of attempts by Bernoulli, in which each attempt has only two possible outcomes (similar to a heads or tails).\n",
    "\n",
    "So, we will user the Binomial Test."
   ]
  },
  {
   "cell_type": "code",
   "execution_count": 19,
   "metadata": {},
   "outputs": [
    {
     "data": {
      "text/plain": [
       "<scipy.stats._distn_infrastructure.rv_frozen at 0x7f5bbc5e2290>"
      ]
     },
     "execution_count": 19,
     "metadata": {},
     "output_type": "execute_result"
    }
   ],
   "source": [
    "# Binomial Test (usando padrão de 5% para o nível de significância)\n",
    "teste_binom = scs.binom(n, p=conversion_base)\n",
    "teste_binom"
   ]
  },
  {
   "cell_type": "code",
   "execution_count": 20,
   "metadata": {},
   "outputs": [
    {
     "data": {
      "text/plain": [
       "<scipy.stats._distn_infrastructure.rv_frozen at 0x7f5bbc5e2a10>"
      ]
     },
     "execution_count": 20,
     "metadata": {},
     "output_type": "execute_result"
    }
   ],
   "source": [
    "# Teste Binomial com o efeito mínimo (no nosso exemplo 0.04 para o nível de significância)\n",
    "teste_binom_mde = scs.binom(n, p=conversion_base+effect_minimum)\n",
    "teste_binom_mde"
   ]
  },
  {
   "cell_type": "code",
   "execution_count": null,
   "metadata": {},
   "outputs": [],
   "source": [
    "# Plot\n",
    "fig, ax = plt.subplots(figsize=(10, 10))\n",
    "sns.set_theme(style=\"whitegrid\")\n",
    "\n",
    "# x values\n",
    "x = np.linspace(0, int(n), int(n) + 1)\n",
    "\n",
    "# pmf e alfa de 0.5\n",
    "ax.bar(x, teste_binom.pmf(x), alpha = 0.5)\n",
    "ax.bar(x, teste_binom_mde.pmf(x), alpha = 0.5)"
   ]
  },
  {
   "cell_type": "markdown",
   "metadata": {},
   "source": [
    "# *3. Distribution Plot*"
   ]
  },
  {
   "cell_type": "markdown",
   "metadata": {},
   "source": [
    "Graph of the distribution of both variants. It is noticed that B has a higher number of conversions but A has a higher probability of conversion. We will focus on the conversion rate, to be able to compare both variants, we must standardize the data."
   ]
  },
  {
   "cell_type": "code",
   "execution_count": 29,
   "metadata": {},
   "outputs": [
    {
     "data": {
      "image/png": "[encoded data removed]",
      "text/plain": [
       "<Figure size 1008x432 with 1 Axes>"
      ]
     },
     "metadata": {},
     "output_type": "display_data"
    }
   ],
   "source": [
    "# plot\n",
    "fig, ax = plt.subplots(figsize=(14,6))\n",
    "sns.set_theme(style=\"whitegrid\")\n",
    "\n",
    "# graphic A\n",
    "xA = np.linspace(conversion_A-49, conversion_A+50, 100)\n",
    "yA = scs.binom(total_A, rate_A).pmf(xA)\n",
    "ax.bar(xA, yA, alpha = 0.5, label='Variant A')\n",
    "ax.legend()\n",
    "\n",
    "# graphic B\n",
    "xB = np.linspace(conversion_B-49, conversion_B+50, 100)\n",
    "yB = scs.binom(total_B, rate_B).pmf(xB)\n",
    "ax.bar(xB, yB, alpha = 0.5, label='Variant B')\n",
    "ax.legend()\n",
    "\n",
    "# labels\n",
    "plt.xlabel('Conversion')\n",
    "plt.ylabel('Probability')\n",
    "plt.show()"
   ]
  },
  {
   "cell_type": "markdown",
   "metadata": {},
   "source": [
    "### Padronization and Plot"
   ]
  },
  {
   "cell_type": "markdown",
   "metadata": {},
   "source": [
    "**Null Hypothesis (H0):** will be a normal distribution with an average of zero and a standard deviation equal to the standard error pooled.\n",
    "\n",
    "**Alternative Hypothesis (H1):** has the same standard deviation as the null hypothesis, but the mean will be located in the difference in the conversion rate, d_hat."
   ]
  },
  {
   "cell_type": "code",
   "execution_count": 33,
   "metadata": {},
   "outputs": [],
   "source": [
    "# probabilities\n",
    "p_A = rate_A\n",
    "p_B = rate_B\n",
    "\n",
    "# number of conversion\n",
    "N_A = total_A\n",
    "N_B = total_B"
   ]
  },
  {
   "cell_type": "code",
   "execution_count": 38,
   "metadata": {},
   "outputs": [],
   "source": [
    "# pooled probability for 2 samples\n",
    "def pooled_prob_func(N_A, N_B, X_A, X_B):\n",
    "    return (X_A + X_B) / (N_A + N_B)\n",
    "\n",
    "# pooled standard error for 2 samples\n",
    "def pooled_std_err_func(N_A, N_B, X_A, X_B):\n",
    "    p_hat = pooled_prob_func(N_A, N_B, X_A, X_B)\n",
    "    SE = np.sqrt(p_hat * (1-p_hat) * (1/N_A + 1/N_B))\n",
    "    return SE"
   ]
  },
  {
   "cell_type": "code",
   "execution_count": 39,
   "metadata": {},
   "outputs": [],
   "source": [
    "# Z value for a given level of significance\n",
    "def z_val(sig_level=0.05, two_tailed=True):\n",
    "    \n",
    "    # get distribution\n",
    "    z_dist = scs.norm()\n",
    "    \n",
    "    # check if one or tow tails\n",
    "    if two_tailed:\n",
    "        sig_level = sig_level/2\n",
    "        area = 1 - sig_level\n",
    "    else:\n",
    "        area = 1 - sig_level\n",
    "\n",
    "    # z values\n",
    "    z = z_dist.ppf(area)\n",
    "\n",
    "    return z\n",
    "\n",
    "# confidence interval\n",
    "def confidence_interval(sample_mean=0, sample_std=1, sample_size=1, sig_level=0.05):\n",
    "    \n",
    "    # get z value\n",
    "    z = z_val(sig_level)\n",
    "\n",
    "    # right and left limits\n",
    "    left = sample_mean - z * sample_std / np.sqrt(sample_size)\n",
    "    right = sample_mean + z * sample_std / np.sqrt(sample_size)\n",
    "\n",
    "    return (left, right)\n",
    "\n",
    "# confidence interval plot\n",
    "def plot_CI(ax, mu, s, sig_level=0.05, color='grey'):\n",
    "\n",
    "    # get confidence interval\n",
    "    left, right = confidence_interval(sample_mean=mu, sample_std=s, sig_level=sig_level)\n",
    "    \n",
    "    # put in the plot\n",
    "    ax.axvline(left, c=color, linestyle='--', alpha=0.5)\n",
    "    ax.axvline(right, c=color, linestyle='--', alpha=0.5)"
   ]
  },
  {
   "cell_type": "code",
   "execution_count": 53,
   "metadata": {},
   "outputs": [],
   "source": [
    "# normal distribuition plot\n",
    "def plot_norm_dist(ax, mu, std, with_CI=False, sig_level=0.05, label=None):\n",
    "\n",
    "    # get data\n",
    "    x = np.linspace(mu-12*std, mu+12*std, 1000)\n",
    "    y = scs.norm(mu, std).pdf(x)\n",
    "    \n",
    "    # plot\n",
    "    ax.plot(x, y, label=label)\n",
    "\n",
    "    # put CI in the plot, if there is one\n",
    "    if with_CI:\n",
    "        plot_CI(ax, mu, std, sig_level=sig_level)\n",
    "        \n",
    "def plot_H0(ax, stderr):\n",
    "    plot_norm_dist(ax, 0, stderr, label=\"H0 - Null Hypothesis\")\n",
    "    plot_CI(ax, mu=0, s=stderr, sig_level=0.05)\n",
    "\n",
    "def plot_H1(ax, stderr, d_hat):\n",
    "    plot_norm_dist(ax, d_hat, stderr, label=\"H1 - Alternative Hypothesis\")"
   ]
  },
  {
   "cell_type": "code",
   "execution_count": 63,
   "metadata": {},
   "outputs": [],
   "source": [
    "def show_area(ax, d_hat, stderr, sig_level):\n",
    "\n",
    "    # confidence interval\n",
    "    left, right = confidence_interval(sample_mean=0, sample_std=stderr, sig_level=sig_level)\n",
    "    \n",
    "    # variable x\n",
    "    x = np.linspace(-12*stderr, 12*stderr, 1000)\n",
    "    \n",
    "    # H0 e H1\n",
    "    null = ab_dist(stderr, 'controle')\n",
    "    alternative = ab_dist(stderr, d_hat, 'teste')\n",
    "\n",
    "    ax.fill_between(x, 0, alternative.pdf(x), color='green', alpha=0.25, where=(x>right))\n",
    "    ax.text(-2*stderr, null.pdf(0), f'power = {np.round(1-alternative.cdf(right),3)}', \n",
    "            fontsize=12, ha='right', color='k')"
   ]
  },
  {
   "cell_type": "code",
   "execution_count": 43,
   "metadata": {},
   "outputs": [],
   "source": [
    "# Função que retorna um objeto de distribuição dependendo do tipo de grupo\n",
    "def ab_dist(stderr, d_hat=0, group_type='controle'):\n",
    "\n",
    "    # check group type\n",
    "    if group_type == 'controle':\n",
    "        sample_mean = 0\n",
    "    elif group_type == 'teste':\n",
    "        sample_mean = d_hat\n",
    "\n",
    "    # creat normal distribuition\n",
    "    dist = scs.norm(sample_mean, stderr)\n",
    "    return dist\n",
    "\n",
    "# p value\n",
    "def p_val(N_A, N_B, p_A, p_B):\n",
    "    return scs.binom(N_A, p_A).pmf(p_B * N_B)"
   ]
  },
  {
   "cell_type": "code",
   "execution_count": 57,
   "metadata": {},
   "outputs": [],
   "source": [
    "def abplot_func(N_A, N_B, bcr, d_hat, sig_level=0.05, show_p_value=False, show_legend=True):\n",
    "   \n",
    "    # plot\n",
    "    fig, ax = plt.subplots(figsize=(14, 10))\n",
    "    sns.set_theme(style=\"whitegrid\")\n",
    "\n",
    "    # pooled standard error\n",
    "    X_A = bcr * N_A\n",
    "    X_B = (bcr + d_hat) * N_B\n",
    "    stderr = pooled_std_err_func(N_A, N_B, X_A, X_B)\n",
    "\n",
    "    # H0 e H1 plot\n",
    "    plot_H0(ax, stderr)\n",
    "    plot_H1(ax, stderr, d_hat)\n",
    "\n",
    "    # plot configs\n",
    "    ax.set_xlim(-8*stderr, 8*stderr)\n",
    "    show_area(ax, d_hat, stderr, sig_level)\n",
    "\n",
    "    # put p value in the plot\n",
    "    if show_p_value:\n",
    "        null = ab_dist(stderr, 'controle')\n",
    "        p_value = p_val(N_A, N_B, bcr, bcr + d_hat)\n",
    "        ax.text(3 * stderr, null.pdf(0), f'Valor-p = {np.round(p_value,4)}', fontsize = 14, ha = 'left')\n",
    "\n",
    "    # show legend\n",
    "    if show_legend:\n",
    "        plt.legend()\n",
    "\n",
    "    plt.xlabel('d')\n",
    "    plt.ylabel('PDF')\n",
    "    plt.show()"
   ]
  },
  {
   "cell_type": "code",
   "execution_count": 64,
   "metadata": {},
   "outputs": [
    {
     "data": {
      "image/png": "[encoded data removed]",
      "text/plain": [
       "<Figure size 1008x720 with 1 Axes>"
      ]
     },
     "metadata": {},
     "output_type": "display_data"
    }
   ],
   "source": [
    "# creat plot\n",
    "n = N_A + N_B\n",
    "conversion_base = p_A  \n",
    "d_hat = p_B - p_A\n",
    "abplot_func(N_A, N_B, conversion_base, d_hat, show_p_value=True)"
   ]
  },
  {
   "cell_type": "markdown",
   "metadata": {},
   "source": [
    "Now with both standardized hypotheses, we can compare it without any problem. We see that the average conversion rate of the alternative hypothesis remains higher, so we can suggest that the test group has a higher conversion rate than the control group."
   ]
  },
  {
   "cell_type": "markdown",
   "metadata": {},
   "source": [
    "# *4. Statistical Power*"
   ]
  },
  {
   "cell_type": "markdown",
   "metadata": {},
   "source": [
    "O poder estatístico é calculado encontrando a área sob a distribuição de hipótese alternativa e fora do intervalo de confiança da hipótese nula.\n"
   ]
  },
  {
   "cell_type": "code",
   "execution_count": null,
   "metadata": {},
   "outputs": [],
   "source": []
  },
  {
   "cell_type": "code",
   "execution_count": null,
   "metadata": {},
   "outputs": [],
   "source": []
  },
  {
   "cell_type": "markdown",
   "metadata": {},
   "source": [
    "# *5. Minimun Sample Size*"
   ]
  },
  {
   "cell_type": "code",
   "execution_count": null,
   "metadata": {},
   "outputs": [],
   "source": []
  },
  {
   "cell_type": "code",
   "execution_count": null,
   "metadata": {},
   "outputs": [],
   "source": []
  },
  {
   "cell_type": "markdown",
   "metadata": {},
   "source": [
    "# *Final Considerations*\n"
   ]
  },
  {
   "cell_type": "markdown",
   "metadata": {},
   "source": []
  }
 ],
 "metadata": {
  "kernelspec": {
   "display_name": "Python 3",
   "language": "python",
   "name": "python3"
  },
  "language_info": {
   "codemirror_mode": {
    "name": "ipython",
    "version": 3
   },
   "file_extension": ".py",
   "mimetype": "text/x-python",
   "name": "python",
   "nbconvert_exporter": "python",
   "pygments_lexer": "ipython3",
   "version": "3.7.7"
  }
 },
 "nbformat": 4,
 "nbformat_minor": 2
}
